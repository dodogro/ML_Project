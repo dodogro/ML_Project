{
 "cells": [
  {
   "cell_type": "code",
   "execution_count": 10,
   "metadata": {
    "collapsed": true
   },
   "outputs": [],
   "source": [
    "import pandas as pd\n",
    "import numpy as np\n",
    "\n",
    "\n",
    "df =  pd.read_csv(\"tyres_model.csv\")\n",
    "# df.head()"
   ]
  },
  {
   "cell_type": "code",
   "execution_count": 4,
   "outputs": [
    {
     "name": "stdout",
     "output_type": "stream",
     "text": [
      "(3000, 16)\n"
     ]
    }
   ],
   "source": [
    "print(df.shape)"
   ],
   "metadata": {
    "collapsed": false
   }
  },
  {
   "cell_type": "code",
   "execution_count": 6,
   "outputs": [
    {
     "data": {
      "text/plain": "Empty DataFrame\nColumns: [vulc, perc_nat_rubber, wiring_strength, weather, perc_imp, temperature, tread_type, tyre_season, elevation, month, tread_depth, tyre_quality, perc_exp_comp, diameter, add_layers, failure]\nIndex: []",
      "text/html": "<div>\n<style scoped>\n    .dataframe tbody tr th:only-of-type {\n        vertical-align: middle;\n    }\n\n    .dataframe tbody tr th {\n        vertical-align: top;\n    }\n\n    .dataframe thead th {\n        text-align: right;\n    }\n</style>\n<table border=\"1\" class=\"dataframe\">\n  <thead>\n    <tr style=\"text-align: right;\">\n      <th></th>\n      <th>vulc</th>\n      <th>perc_nat_rubber</th>\n      <th>wiring_strength</th>\n      <th>weather</th>\n      <th>perc_imp</th>\n      <th>temperature</th>\n      <th>tread_type</th>\n      <th>tyre_season</th>\n      <th>elevation</th>\n      <th>month</th>\n      <th>tread_depth</th>\n      <th>tyre_quality</th>\n      <th>perc_exp_comp</th>\n      <th>diameter</th>\n      <th>add_layers</th>\n      <th>failure</th>\n    </tr>\n  </thead>\n  <tbody>\n  </tbody>\n</table>\n</div>"
     },
     "execution_count": 6,
     "metadata": {},
     "output_type": "execute_result"
    }
   ],
   "source": [
    "df[df.duplicated()]\n",
    "# there are no duplicated data"
   ],
   "metadata": {
    "collapsed": false
   }
  },
  {
   "cell_type": "code",
   "execution_count": 8,
   "outputs": [
    {
     "data": {
      "text/plain": "vulc               False\nperc_nat_rubber    False\nwiring_strength    False\nweather            False\nperc_imp           False\ntemperature        False\ntread_type         False\ntyre_season        False\nelevation          False\nmonth              False\ntread_depth        False\ntyre_quality       False\nperc_exp_comp      False\ndiameter            True\nadd_layers         False\nfailure            False\ndtype: bool"
     },
     "execution_count": 8,
     "metadata": {},
     "output_type": "execute_result"
    }
   ],
   "source": [
    "# check for missing values\n",
    "df.isna().any()\n",
    "# we see that only diameter has nan values"
   ],
   "metadata": {
    "collapsed": false
   }
  },
  {
   "cell_type": "code",
   "execution_count": 14,
   "outputs": [
    {
     "data": {
      "text/plain": "        vulc  perc_nat_rubber  wiring_strength  weather  perc_imp  \\\n1     20.704               36                1     0.30      0.01   \n2     19.156               34                1     0.30      0.01   \n5     20.042               38                0     0.04      0.01   \n6     21.172               33                1     0.39      0.01   \n7     16.706               32                0     0.62      0.05   \n...      ...              ...              ...      ...       ...   \n2993  17.860               21                1     0.16      0.01   \n2994  19.298               29                1     0.03      0.00   \n2995  17.818               29                2     0.39      0.01   \n2996  17.076               30                1     0.22      0.00   \n2997  16.170               33                1     0.39      0.01   \n\n      temperature  tread_type  tyre_season  elevation  month  tread_depth  \\\n1           -4.52           2            0      328.0     11            1   \n2           -1.08           0            0      247.0      0            1   \n5           -0.20           2            1      160.5      0            0   \n6           -2.28           0            0      470.0      3            0   \n7           -3.96           3            1      148.5      7            2   \n...           ...         ...          ...        ...    ...          ...   \n2993        -6.48           0            1      336.5      8            0   \n2994        -1.00           2            1      167.5      8            0   \n2995         7.28           1            1      287.5     10            1   \n2996        -1.44           1            1      152.5      6            1   \n2997        -3.44           1            0      235.0      8            3   \n\n      tyre_quality  perc_exp_comp  diameter  add_layers  failure  \n1                0           6.15       NaN           1        0  \n2                0           6.36       NaN           1        0  \n5                0           5.96       NaN           1        0  \n6                0           6.47       NaN           1        0  \n7                0           5.39       NaN           1        0  \n...            ...            ...       ...         ...      ...  \n2993             1           5.85       NaN           1        0  \n2994             0           5.82       NaN           2        0  \n2995             1           5.68       NaN           1        1  \n2996             0           5.81       NaN           1        1  \n2997             1           5.57       NaN           0        0  \n\n[2110 rows x 16 columns]",
      "text/html": "<div>\n<style scoped>\n    .dataframe tbody tr th:only-of-type {\n        vertical-align: middle;\n    }\n\n    .dataframe tbody tr th {\n        vertical-align: top;\n    }\n\n    .dataframe thead th {\n        text-align: right;\n    }\n</style>\n<table border=\"1\" class=\"dataframe\">\n  <thead>\n    <tr style=\"text-align: right;\">\n      <th></th>\n      <th>vulc</th>\n      <th>perc_nat_rubber</th>\n      <th>wiring_strength</th>\n      <th>weather</th>\n      <th>perc_imp</th>\n      <th>temperature</th>\n      <th>tread_type</th>\n      <th>tyre_season</th>\n      <th>elevation</th>\n      <th>month</th>\n      <th>tread_depth</th>\n      <th>tyre_quality</th>\n      <th>perc_exp_comp</th>\n      <th>diameter</th>\n      <th>add_layers</th>\n      <th>failure</th>\n    </tr>\n  </thead>\n  <tbody>\n    <tr>\n      <th>1</th>\n      <td>20.704</td>\n      <td>36</td>\n      <td>1</td>\n      <td>0.30</td>\n      <td>0.01</td>\n      <td>-4.52</td>\n      <td>2</td>\n      <td>0</td>\n      <td>328.0</td>\n      <td>11</td>\n      <td>1</td>\n      <td>0</td>\n      <td>6.15</td>\n      <td>NaN</td>\n      <td>1</td>\n      <td>0</td>\n    </tr>\n    <tr>\n      <th>2</th>\n      <td>19.156</td>\n      <td>34</td>\n      <td>1</td>\n      <td>0.30</td>\n      <td>0.01</td>\n      <td>-1.08</td>\n      <td>0</td>\n      <td>0</td>\n      <td>247.0</td>\n      <td>0</td>\n      <td>1</td>\n      <td>0</td>\n      <td>6.36</td>\n      <td>NaN</td>\n      <td>1</td>\n      <td>0</td>\n    </tr>\n    <tr>\n      <th>5</th>\n      <td>20.042</td>\n      <td>38</td>\n      <td>0</td>\n      <td>0.04</td>\n      <td>0.01</td>\n      <td>-0.20</td>\n      <td>2</td>\n      <td>1</td>\n      <td>160.5</td>\n      <td>0</td>\n      <td>0</td>\n      <td>0</td>\n      <td>5.96</td>\n      <td>NaN</td>\n      <td>1</td>\n      <td>0</td>\n    </tr>\n    <tr>\n      <th>6</th>\n      <td>21.172</td>\n      <td>33</td>\n      <td>1</td>\n      <td>0.39</td>\n      <td>0.01</td>\n      <td>-2.28</td>\n      <td>0</td>\n      <td>0</td>\n      <td>470.0</td>\n      <td>3</td>\n      <td>0</td>\n      <td>0</td>\n      <td>6.47</td>\n      <td>NaN</td>\n      <td>1</td>\n      <td>0</td>\n    </tr>\n    <tr>\n      <th>7</th>\n      <td>16.706</td>\n      <td>32</td>\n      <td>0</td>\n      <td>0.62</td>\n      <td>0.05</td>\n      <td>-3.96</td>\n      <td>3</td>\n      <td>1</td>\n      <td>148.5</td>\n      <td>7</td>\n      <td>2</td>\n      <td>0</td>\n      <td>5.39</td>\n      <td>NaN</td>\n      <td>1</td>\n      <td>0</td>\n    </tr>\n    <tr>\n      <th>...</th>\n      <td>...</td>\n      <td>...</td>\n      <td>...</td>\n      <td>...</td>\n      <td>...</td>\n      <td>...</td>\n      <td>...</td>\n      <td>...</td>\n      <td>...</td>\n      <td>...</td>\n      <td>...</td>\n      <td>...</td>\n      <td>...</td>\n      <td>...</td>\n      <td>...</td>\n      <td>...</td>\n    </tr>\n    <tr>\n      <th>2993</th>\n      <td>17.860</td>\n      <td>21</td>\n      <td>1</td>\n      <td>0.16</td>\n      <td>0.01</td>\n      <td>-6.48</td>\n      <td>0</td>\n      <td>1</td>\n      <td>336.5</td>\n      <td>8</td>\n      <td>0</td>\n      <td>1</td>\n      <td>5.85</td>\n      <td>NaN</td>\n      <td>1</td>\n      <td>0</td>\n    </tr>\n    <tr>\n      <th>2994</th>\n      <td>19.298</td>\n      <td>29</td>\n      <td>1</td>\n      <td>0.03</td>\n      <td>0.00</td>\n      <td>-1.00</td>\n      <td>2</td>\n      <td>1</td>\n      <td>167.5</td>\n      <td>8</td>\n      <td>0</td>\n      <td>0</td>\n      <td>5.82</td>\n      <td>NaN</td>\n      <td>2</td>\n      <td>0</td>\n    </tr>\n    <tr>\n      <th>2995</th>\n      <td>17.818</td>\n      <td>29</td>\n      <td>2</td>\n      <td>0.39</td>\n      <td>0.01</td>\n      <td>7.28</td>\n      <td>1</td>\n      <td>1</td>\n      <td>287.5</td>\n      <td>10</td>\n      <td>1</td>\n      <td>1</td>\n      <td>5.68</td>\n      <td>NaN</td>\n      <td>1</td>\n      <td>1</td>\n    </tr>\n    <tr>\n      <th>2996</th>\n      <td>17.076</td>\n      <td>30</td>\n      <td>1</td>\n      <td>0.22</td>\n      <td>0.00</td>\n      <td>-1.44</td>\n      <td>1</td>\n      <td>1</td>\n      <td>152.5</td>\n      <td>6</td>\n      <td>1</td>\n      <td>0</td>\n      <td>5.81</td>\n      <td>NaN</td>\n      <td>1</td>\n      <td>1</td>\n    </tr>\n    <tr>\n      <th>2997</th>\n      <td>16.170</td>\n      <td>33</td>\n      <td>1</td>\n      <td>0.39</td>\n      <td>0.01</td>\n      <td>-3.44</td>\n      <td>1</td>\n      <td>0</td>\n      <td>235.0</td>\n      <td>8</td>\n      <td>3</td>\n      <td>1</td>\n      <td>5.57</td>\n      <td>NaN</td>\n      <td>0</td>\n      <td>0</td>\n    </tr>\n  </tbody>\n</table>\n<p>2110 rows × 16 columns</p>\n</div>"
     },
     "execution_count": 14,
     "metadata": {},
     "output_type": "execute_result"
    }
   ],
   "source": [
    "df.isna().head()\n",
    "# results shows 5 rows which contains NA values, but then only 2 have True as results\n",
    "df[df.isna().any(axis=1)]\n",
    "# maybe add an histogram to show the comparison between the number of nas and the numbers of actual values"
   ],
   "metadata": {
    "collapsed": false
   }
  },
  {
   "cell_type": "code",
   "execution_count": 19,
   "outputs": [
    {
     "name": "stdout",
     "output_type": "stream",
     "text": [
      "(3000, 15)\n"
     ]
    }
   ],
   "source": [
    "df_drop =  df.dropna(axis=1)\n",
    "df_drop.head()\n",
    "print(df_drop.shape)"
   ],
   "metadata": {
    "collapsed": false
   }
  },
  {
   "cell_type": "markdown",
   "source": [
    "## Feature selection\n",
    "\n",
    "Now we should choose and look at every feature and how it changes, to exclude predictives variables that do not change too much"
   ],
   "metadata": {
    "collapsed": false
   }
  },
  {
   "cell_type": "code",
   "execution_count": null,
   "outputs": [],
   "source": [],
   "metadata": {
    "collapsed": false
   }
  },
  {
   "cell_type": "code",
   "execution_count": 20,
   "outputs": [],
   "source": [
    "# now data should be fine, but check it\n",
    "# we should now look at distribution and values on all predictive variables\n",
    "\n",
    "%matplotlib inline\n",
    "import seaborn as sns\n",
    "import matplotlib.pyplot as plt\n",
    "\n",
    "y0 = df[df[\"failure\"] == 0]\n",
    "y1 = df[df[\"failure\"] == 1]\n",
    "\n",
    "fig, axes = plt.subplot()"
   ],
   "metadata": {
    "collapsed": false
   }
  }
 ],
 "metadata": {
  "kernelspec": {
   "display_name": "Python 3",
   "language": "python",
   "name": "python3"
  },
  "language_info": {
   "codemirror_mode": {
    "name": "ipython",
    "version": 2
   },
   "file_extension": ".py",
   "mimetype": "text/x-python",
   "name": "python",
   "nbconvert_exporter": "python",
   "pygments_lexer": "ipython2",
   "version": "2.7.6"
  }
 },
 "nbformat": 4,
 "nbformat_minor": 0
}
